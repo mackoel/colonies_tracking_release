{
  "cells": [
    {
      "cell_type": "code",
      "execution_count": null,
      "metadata": {
        "colab": {
          "base_uri": "https://localhost:8080/"
        },
        "collapsed": true,
        "id": "r6gAeU4XHBSn",
        "outputId": "5156cee3-0e08-4cb4-e2a5-89e57286fc67"
      },
      "outputs": [],
      "source": [
        "!git clone https://git.code.sf.net/p/prostack/code prostack-code"
      ]
    },
    {
      "cell_type": "code",
      "execution_count": null,
      "metadata": {
        "colab": {
          "base_uri": "https://localhost:8080/"
        },
        "collapsed": true,
        "id": "DXXSTKvtKFvB",
        "outputId": "e46e634c-36bb-4a3d-e54a-0b3ff0c00115"
      },
      "outputs": [],
      "source": [
        "!apt-get install glib2.0-dev automake autoconf libtool intltool pkg-config libgtk-3-dev libfftw3-dev libgts-dev libgsl-dev libsoup2.4-dev sqlite3-tools libsqlite3-dev sqlite3 imagemagick exim4-base"
      ]
    },
    {
      "cell_type": "code",
      "execution_count": null,
      "metadata": {
        "colab": {
          "base_uri": "https://localhost:8080/"
        },
        "collapsed": true,
        "id": "5BIZ2yiZQlLi",
        "outputId": "face4e95-c465-4690-dbbd-70a0cd71b329"
      },
      "outputs": [],
      "source": [
        "%cd prostack-code/"
      ]
    },
    {
      "cell_type": "code",
      "execution_count": null,
      "metadata": {
        "colab": {
          "base_uri": "https://localhost:8080/"
        },
        "collapsed": true,
        "id": "Q53N60T3Kp9o",
        "outputId": "929697d4-2319-4c10-d26e-e51e11cb6a78"
      },
      "outputs": [],
      "source": [
        "!git checkout develop"
      ]
    },
    {
      "cell_type": "code",
      "execution_count": null,
      "metadata": {
        "colab": {
          "base_uri": "https://localhost:8080/"
        },
        "collapsed": true,
        "id": "GaDi2dE_Hklc",
        "outputId": "d225ff6c-fbca-461e-c229-1d490a177293"
      },
      "outputs": [],
      "source": [
        "%cd prostack/"
      ]
    },
    {
      "cell_type": "code",
      "execution_count": null,
      "metadata": {
        "colab": {
          "base_uri": "https://localhost:8080/"
        },
        "collapsed": true,
        "id": "dt8MWPYBQ2rJ",
        "outputId": "576097ae-f6f6-416b-a934-60bbd2902385"
      },
      "outputs": [],
      "source": [
        "!autoreconf -fi"
      ]
    },
    {
      "cell_type": "code",
      "execution_count": null,
      "metadata": {
        "colab": {
          "base_uri": "https://localhost:8080/"
        },
        "collapsed": true,
        "id": "0Ddns49pI6S-",
        "outputId": "e5fd6ce8-aa4a-4922-c2a3-4d2a821c4a10"
      },
      "outputs": [],
      "source": [
        "!./configure"
      ]
    },
    {
      "cell_type": "code",
      "execution_count": null,
      "metadata": {
        "colab": {
          "base_uri": "https://localhost:8080/"
        },
        "collapsed": true,
        "id": "g9WwOX68Rm5T",
        "outputId": "573e1c2a-78d3-465f-ef36-af7c4d5fe50a"
      },
      "outputs": [],
      "source": [
        "!make"
      ]
    },
    {
      "cell_type": "code",
      "execution_count": null,
      "metadata": {
        "colab": {
          "base_uri": "https://localhost:8080/"
        },
        "collapsed": true,
        "id": "4XK78M2JRvCS",
        "outputId": "c30e7684-82fc-4169-af3a-70d407779dcc"
      },
      "outputs": [],
      "source": [
        "!make install"
      ]
    },
    {
      "cell_type": "code",
      "execution_count": null,
      "metadata": {
        "colab": {
          "base_uri": "https://localhost:8080/"
        },
        "id": "8M_yxkyHQ1fs",
        "outputId": "72c2a78a-0c15-4a47-99cb-8d2bfc7f2c8a"
      },
      "outputs": [],
      "source": [
        "%cd /content"
      ]
    },
    {
      "cell_type": "code",
      "execution_count": null,
      "metadata": {
        "colab": {
          "base_uri": "https://localhost:8080/"
        },
        "id": "Ou9D0COhSDv8",
        "outputId": "7ab2149d-abe9-4b68-a3ce-d70ff838f1ce"
      },
      "outputs": [],
      "source": [
        "%env LD_LIBRARY_PATH=/usr/local/lib:$LD_LIBRARY_PATH"
      ]
    },
    {
      "cell_type": "code",
      "execution_count": null,
      "metadata": {
        "colab": {
          "base_uri": "https://localhost:8080/"
        },
        "id": "IfgHUY0avnfC",
        "outputId": "f840a5ab-9d0b-43e4-91f1-dfcf3719c41a"
      },
      "outputs": [],
      "source": [
        "!git clone https://gitlab.com/tima1337/colonies_tracking_release.git"
      ]
    },
    {
      "cell_type": "code",
      "execution_count": null,
      "metadata": {
        "colab": {
          "base_uri": "https://localhost:8080/"
        },
        "id": "c-6hpLrrTki2",
        "outputId": "8a199376-4225-418e-aab5-79507329d1ea"
      },
      "outputs": [],
      "source": [
        "from google.colab import drive\n",
        "drive.mount('/content/drive/')"
      ]
    },
    {
      "cell_type": "code",
      "execution_count": null,
      "metadata": {
        "colab": {
          "base_uri": "https://localhost:8080/"
        },
        "collapsed": true,
        "id": "EUBZSswtsno7",
        "outputId": "f06e9771-57ea-4592-c3e0-51cbd7503d70"
      },
      "outputs": [],
      "source": [
        "!unzip /content/colonies_tracking_release/Registration_and_Tracking.zip -d colonies_tracking_base"
      ]
    },
    {
      "cell_type": "code",
      "execution_count": null,
      "metadata": {
        "id": "SFYU3QLqtfsY"
      },
      "outputs": [],
      "source": [
        "!mkdir /content/work_trk"
      ]
    },
    {
      "cell_type": "code",
      "execution_count": null,
      "metadata": {
        "colab": {
          "base_uri": "https://localhost:8080/"
        },
        "id": "F0XgGxWMwEK4",
        "outputId": "1a1b4445-c1ce-4288-d81f-a4cb3c73de70"
      },
      "outputs": [],
      "source": [
        "!pip install laptrack napari"
      ]
    },
    {
      "cell_type": "code",
      "execution_count": null,
      "metadata": {
        "id": "YLo9jHl_RZgx"
      },
      "outputs": [],
      "source": [
        "!tar jxf /content/drive/MyDrive/col2.tbz"
      ]
    },
    {
      "cell_type": "code",
      "execution_count": null,
      "metadata": {
        "id": "93RpvwImRltp"
      },
      "outputs": [],
      "source": [
        "!mv /content/20230313T133214_/Image/W0001F0003 /content/work_input"
      ]
    },
    {
      "cell_type": "code",
      "execution_count": null,
      "metadata": {
        "id": "zqgYzktyYjE-"
      },
      "outputs": [],
      "source": [
        "!mkdir /content/work_output"
      ]
    },
    {
      "cell_type": "code",
      "execution_count": null,
      "metadata": {
        "id": "V82J-aEx9qeg"
      },
      "outputs": [],
      "source": [
        "!rm -f /content/work_output/*"
      ]
    },
    {
      "cell_type": "code",
      "execution_count": null,
      "metadata": {
        "colab": {
          "base_uri": "https://localhost:8080/"
        },
        "collapsed": true,
        "id": "Jr3MhNxfXFd7",
        "outputId": "41c4a8f4-d28e-4a41-8631-282c1c925162"
      },
      "outputs": [],
      "source": [
        "!komet -L 291 -w -p kozlov_kn@spbstu.ru,/content/work_output,/content/work_input,localhost:7778 /content/colonies_tracking_release/detect_colonies_move.ini"
      ]
    },
    {
      "cell_type": "code",
      "execution_count": null,
      "metadata": {
        "colab": {
          "base_uri": "https://localhost:8080/"
        },
        "id": "Utz1c4lZsj0b",
        "outputId": "3afe9722-cb21-4f09-a86a-d5a6cb4df27f"
      },
      "outputs": [],
      "source": [
        "%cd /content/"
      ]
    },
    {
      "cell_type": "code",
      "execution_count": null,
      "metadata": {
        "colab": {
          "base_uri": "https://localhost:8080/"
        },
        "id": "pCOYb2k0ttcm",
        "outputId": "c240dcd8-39e1-4f34-d131-b4b258a3036d"
      },
      "outputs": [],
      "source": [
        "!python3 /content/colonies_tracking_base/ColoniesTracker/ImageRegistrationCore.py \\\n",
        "/content/work_input \\\n",
        "/content/work_output \\\n",
        "tag_sym=\"11,15\" \\\n",
        "last_num=291 \\\n",
        "viewer=OFF \\\n",
        "features_cnt=15000 \\\n",
        "N_CORES=4 \\\n",
        "parallel=OFF \\\n",
        "reg_algo=FFT"
      ]
    },
    {
      "cell_type": "code",
      "execution_count": null,
      "metadata": {
        "colab": {
          "base_uri": "https://localhost:8080/"
        },
        "id": "ShiS3kgMwsZD",
        "outputId": "f4433b89-57a5-45da-bcd3-e21b098f1391"
      },
      "outputs": [],
      "source": [
        "!python3 /content/colonies_tracking_base/ColoniesTracker/CoreTrackingAPI.py \\\n",
        "/content/work_output \\\n",
        "/content/work_trk \\\n",
        "ffile_mask=\"_tab.csv\" \\\n",
        "max_dist_param=35 \\\n",
        "max_gap=4 \\\n",
        "split_merge=True \\\n",
        "min_track_len=1 \\\n",
        "min_tree_len=50 \\\n",
        "merging_cost_cutoff_multiplier=1.0 \\\n",
        "frames_cnt=-1 \\\n",
        "sq_lower_bound=99 \\\n",
        "sq_upper_bound=999999 \\\n",
        "bkg_img=/content/work_output/W0001F0003T0001Z001C1_movl.jpg \\\n",
        "tag_sym=\"11,15\" \\\n",
        "napari_viewer=\"OFF\" \\\n",
        "custom_offset_mode=\"OFF\" \\\n",
        "matplot_lib=\"ON\" \\\n",
        "split_merge=False \\\n",
        "shifts_path=/content/work_output.txt \\\n",
        "save_image_path=/content/work_tracks.png\n"
      ]
    },
    {
      "cell_type": "code",
      "execution_count": null,
      "metadata": {
        "id": "-zrt1JgJVc7C"
      },
      "outputs": [],
      "source": [
        "!tar jcf output_arch.tbz work_output work_trk work_output.txt work_tracks.png"
      ]
    },
    {
      "cell_type": "code",
      "execution_count": null,
      "metadata": {
        "id": "JAUWdIsSVtbK"
      },
      "outputs": [],
      "source": [
        "!cp output_arch.tbz /content/drive/MyDrive"
      ]
    }
  ],
  "metadata": {
    "colab": {
      "provenance": []
    },
    "kernelspec": {
      "display_name": "Python 3",
      "name": "python3"
    },
    "language_info": {
      "name": "python"
    }
  },
  "nbformat": 4,
  "nbformat_minor": 0
}
